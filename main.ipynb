{
 "cells": [
  {
   "cell_type": "markdown",
   "metadata": {},
   "source": [
    "[ЧМ по ЧГК](http://worldchamp.chgk.info/) 2017 года пройдёт по довольно странным правилам: чемпион будет определяться только на последних 30 вопросах (из 120) (в регламенте есть и бо́льшие странности, но про них сегодня не будет ничего). Давайте посмотрим, что получится, если повыдёргивать победителей каких-то двух туров на предыдущих ЧР и ЧМ.\n",
    "\n",
    "Итог этого упражнения — [красивый график в Tableau](https://public.tableau.com/views/30-questions/30?:embed=true&:display_count=yes), а также два CSV-файла в этом репозитории. Между кодом есть некоторые пояснения, а ещё они есть [в статье на chgk.gg](https://chgk.gg/chm-2017-30-questions/).\n",
    "\n",
    "Скучные импорты и определения, листайте дальше."
   ]
  },
  {
   "cell_type": "code",
   "execution_count": 1,
   "metadata": {
    "collapsed": true
   },
   "outputs": [],
   "source": [
    "import requests\n",
    "import json\n",
    "from typing import Dict, NamedTuple, List, Tuple\n",
    "from itertools import chain\n",
    "from collections import Counter\n",
    "import csv"
   ]
  },
  {
   "cell_type": "code",
   "execution_count": 2,
   "metadata": {},
   "outputs": [],
   "source": [
    "class Team:\n",
    "    def __init__(self, team: Dict, tour_len=15):\n",
    "        self.name = team['current_name']\n",
    "        self.position = float(team['position'])\n",
    "        self.tours_count = len(team['mask']) // tour_len\n",
    "        tours_str = (team['mask'][i*tour_len:(i+1)*tour_len] \n",
    "                     for i in range(self.tours_count))\n",
    "        self.tours = [sum(int(q) for q in tour) for tour in tours_str]\n",
    "        \n",
    "    @property\n",
    "    def sum(self):\n",
    "        return sum(self.tours)\n",
    "    \n",
    "    @property\n",
    "    def pairs(self):\n",
    "        return {f'{i + 1} и {j + 1}': self.tours[i] + self.tours[j]\n",
    "                 for i in range(self.tours_count)\n",
    "                for j in range(i + 1, self.tours_count)}\n",
    "    \n",
    "    @property\n",
    "    def full_name(self):\n",
    "        return f'{int(self.position)}. {self.name} ({self.sum})'\n",
    "        \n",
    "        \n",
    "class PairResult(NamedTuple):\n",
    "    tournament_name: str\n",
    "    tours: str\n",
    "    teams: str\n",
    "    result: int\n",
    "\n",
    "class WinPercentage(NamedTuple):\n",
    "    tournament_name: str\n",
    "    team: str\n",
    "    percentage: float"
   ]
  },
  {
   "cell_type": "markdown",
   "metadata": {},
   "source": [
    "Тут можно добавить ID своего топового турнира и посмотреть, что было бы (понятно, что интересно взглянуть на финальные этапы ЧМ, но туры по 15 вопросов были только в 2013 году)."
   ]
  },
  {
   "cell_type": "code",
   "execution_count": 3,
   "metadata": {},
   "outputs": [],
   "source": [
    "def load_data(id: int) -> Tuple[Dict]:\n",
    "    metadata = requests.get(f'http://rating.chgk.info/api/tournaments/{id}.json').json()[0]\n",
    "    results = requests.get(f'http://rating.chgk.info/api/tournaments/{id}/list.json').json()\n",
    "    return metadata, results\n",
    "\n",
    "\n",
    "tournaments = [4247, 3825, 3099, 2813, 2117, 1983, #ЧР\n",
    "               4030, 3495, 2958, 2481, 2422, 2086] #ЧМ\n",
    "data = [load_data(id) for id in tournaments]"
   ]
  },
  {
   "cell_type": "markdown",
   "metadata": {},
   "source": [
    "Забрали данные из рейтинга, теперь можно составить все пары туров и сразу же найти лучшие команды в этих парах."
   ]
  },
  {
   "cell_type": "code",
   "execution_count": 4,
   "metadata": {},
   "outputs": [],
   "source": [
    "def process_tournament(metadata: Dict, results: Dict) -> List[PairResult]:\n",
    "    raw_name = metadata['name']\n",
    "    if 'России' in raw_name:\n",
    "        tournament_name = f'ЧР {metadata[\"date_end\"][:4]}'\n",
    "    elif 'Финал' in raw_name:\n",
    "        tournament_name = f'Финал ЧМ {metadata[\"date_end\"][:4]}'\n",
    "    else:\n",
    "        tournament_name = f'Отбор ЧМ {metadata[\"date_end\"][:4]}'\n",
    "    teams = [Team(team) for team in results]\n",
    "    keys = teams[0].pairs.keys()\n",
    "    return [find_max_result(tournament_name, key, teams) for key in keys]\n",
    "\n",
    "def find_max_result(tournament_name: str, key: str, teams: List[Team]) -> PairResult:\n",
    "    best_teams = []\n",
    "    best_result = 0\n",
    "    for team in teams:\n",
    "        team_result = team.pairs[key]\n",
    "        if team_result == best_result:\n",
    "            best_teams += [team.full_name]\n",
    "        if team_result > best_result:\n",
    "            best_result = team_result\n",
    "            best_teams = [team.full_name]\n",
    "            \n",
    "    return PairResult(tournament_name, key, best_teams, best_result)\n",
    "\n",
    "results_with_pairs = [process_tournament(metadata, results) \n",
    "                      for metadata, results in data]"
   ]
  },
  {
   "cell_type": "markdown",
   "metadata": {},
   "source": [
    "Теперь посчитаем, какова вероятность победы команды при игре по этим правилам. Например, в отборе ЧМ четыре тура, а разных пар — шесть (обязательно проверьте!), поэтому если ваша команда выиграла три пары, то вероятность, что мы вытащим удачную для вас пару, — 0,5.\n",
    "\n",
    "`percentages` — это список списков, для каждого турнира — свой, тут мы для экономии места покажем только проценты последнего ЧР."
   ]
  },
  {
   "cell_type": "code",
   "execution_count": 5,
   "metadata": {},
   "outputs": [
    {
     "data": {
      "text/plain": [
       "[WinPercentage(tournament_name='ЧР 2017', team='2. Рабочее название (58)', percentage=20.0),\n",
       " WinPercentage(tournament_name='ЧР 2017', team='1. Борский корабел (59)', percentage=46.7),\n",
       " WinPercentage(tournament_name='ЧР 2017', team='3. Команда Губанова (57)', percentage=26.7),\n",
       " WinPercentage(tournament_name='ЧР 2017', team='4. Сборная Кирибати (51)', percentage=6.7),\n",
       " WinPercentage(tournament_name='ЧР 2017', team='5. Мираж (50)', percentage=20.0),\n",
       " WinPercentage(tournament_name='ЧР 2017', team='9. ТПРУНЯ (47)', percentage=6.7)]"
      ]
     },
     "execution_count": 5,
     "metadata": {},
     "output_type": "execute_result"
    }
   ],
   "source": [
    "def count_percentages(tournament: List[PairResult]) -> List[WinPercentage]:\n",
    "    winners = list(chain.from_iterable(result.teams for result in tournament))\n",
    "    counter = Counter(winners)\n",
    "    return [WinPercentage(tournament[0].tournament_name, team,\n",
    "                         round(100 * wins / len(tournament), 1))\n",
    "            for team, wins in counter.items()]\n",
    "\n",
    "\n",
    "percentages = [count_percentages(r) for r in results_with_pairs]\n",
    "percentages[0]"
   ]
  },
  {
   "cell_type": "markdown",
   "metadata": {},
   "source": [
    "Скучный экспорт в CSV."
   ]
  },
  {
   "cell_type": "code",
   "execution_count": 6,
   "metadata": {},
   "outputs": [],
   "source": [
    "with open('pct.csv', 'w') as csvfile:\n",
    "    writer = csv.writer(csvfile, delimiter=';')\n",
    "    pct_list = list(chain.from_iterable(percentages))\n",
    "    writer.writerow(['Турнир', 'Команда', 'Процент побед'])\n",
    "    writer.writerows(pct_list)\n",
    "    \n",
    "with open('pairs.csv', 'w') as csvfile:\n",
    "    writer = csv.writer(csvfile, delimiter=';')\n",
    "    writer.writerow(['Турнир', 'Пара туров', 'Команды', 'Сумма'])\n",
    "    pairs = chain.from_iterable(results_with_pairs)\n",
    "    for pair in pairs:\n",
    "        writer.writerow([pair.tournament_name, pair.tours, \n",
    "                        ' и '.join(sorted(pair.teams)), pair.result])"
   ]
  }
 ],
 "metadata": {
  "kernelspec": {
   "display_name": "Python 3",
   "language": "python",
   "name": "python3"
  },
  "language_info": {
   "codemirror_mode": {
    "name": "ipython",
    "version": 3
   },
   "file_extension": ".py",
   "mimetype": "text/x-python",
   "name": "python",
   "nbconvert_exporter": "python",
   "pygments_lexer": "ipython3",
   "version": "3.6.0"
  }
 },
 "nbformat": 4,
 "nbformat_minor": 2
}
